{
 "cells": [
  {
   "attachments": {},
   "cell_type": "markdown",
   "metadata": {},
   "source": [
    "# Adiabatic Quantum Computing\n",
    "\n",
    "We will make a simple example so that the formalism of this algorithm is clear to everyone.\n",
    "\n",
    "We will need for this exercise:\n",
    "\n",
    "* An Initial Hamiltonian and its ground state (so it should be easy or known)\n",
    "* A final Hamiltonian (the problem we are trying to solve)\n",
    "* A Scheduling function that governs the evolution and mixture between the two\n",
    "\n",
    "So let's start by selecting our Initial Hamiltonian:\n",
    "\n",
    "$$\n",
    "\n",
    "H_{init} = - \\sum_i^N \\sigma_i^x\n",
    "\n",
    "$$"
   ]
  },
  {
   "cell_type": "code",
   "execution_count": 1,
   "metadata": {},
   "outputs": [],
   "source": [
    "N = 3 # 3 qubit system"
   ]
  },
  {
   "cell_type": "code",
   "execution_count": 2,
   "metadata": {},
   "outputs": [
    {
     "data": {
      "text/plain": [
       "matrix([[ 0., -1., -1.,  0., -1.,  0.,  0.,  0.],\n",
       "        [-1.,  0.,  0., -1.,  0., -1.,  0.,  0.],\n",
       "        [-1.,  0.,  0., -1.,  0.,  0., -1.,  0.],\n",
       "        [ 0., -1., -1.,  0.,  0.,  0.,  0., -1.],\n",
       "        [-1.,  0.,  0.,  0.,  0., -1., -1.,  0.],\n",
       "        [ 0., -1.,  0.,  0., -1.,  0.,  0., -1.],\n",
       "        [ 0.,  0., -1.,  0., -1.,  0.,  0., -1.],\n",
       "        [ 0.,  0.,  0., -1.,  0., -1., -1.,  0.]])"
      ]
     },
     "execution_count": 2,
     "metadata": {},
     "output_type": "execute_result"
    }
   ],
   "source": [
    "import numpy as np\n",
    "\n",
    "# \\sigma_x\n",
    "sigma_x = np.matrix([[0, 1],\n",
    "                     [1, 0]])\n",
    "\n",
    "# Initial hamiltonian\n",
    "H_init = 0\n",
    "for j in range(N):\n",
    "    H_init += -1.0 * np.kron( np.kron(np.identity(2**j), sigma_x), np.identity(2**(N-j-1)) )\n",
    "\n",
    "H_init"
   ]
  },
  {
   "cell_type": "code",
   "execution_count": 3,
   "metadata": {},
   "outputs": [],
   "source": [
    "from math import sqrt\n",
    "from numpy.linalg import eig\n",
    "\n",
    "# Get eigen spectrum for a particular hamiltonian\n",
    "def get_eigenspectra(h_mat):\n",
    "    \"\"\"\n",
    "    Computes the eigenspectra\n",
    "    \"\"\"\n",
    "    evals, evecs = eig(h_mat)\n",
    "    sort_index = np.argsort(evals)\n",
    "\n",
    "    return evals [sort_index], evecs[:, sort_index]\n",
    "\n",
    "# Gets the ground state\n",
    "def get_gs(h_mat):\n",
    "    \"\"\" Computes the ground state \"\"\"\n",
    "    evals, evecs = eig(h_mat)\n",
    "    sort_index = np.argsort(evals)\n",
    "\n",
    "    stat_gs = evecs[:, sort_index[0]]\n",
    "    gs_val = evals[sort_index[0]]\n",
    "    \n",
    "    num = 1\n",
    "    for idx in sort_index[1:]:\n",
    "        if evals[idx] == gs_val:\n",
    "            stat_gs += evecs[:, idx]\n",
    "            num += 1\n",
    "        else:\n",
    "            break\n",
    "\n",
    "    return np.dot((1/sqrt(num)), stat_gs)\n"
   ]
  },
  {
   "cell_type": "code",
   "execution_count": 4,
   "metadata": {},
   "outputs": [
    {
     "data": {
      "text/plain": [
       "matrix([[-0.35355339],\n",
       "        [-0.35355339],\n",
       "        [-0.35355339],\n",
       "        [-0.35355339],\n",
       "        [-0.35355339],\n",
       "        [-0.35355339],\n",
       "        [-0.35355339],\n",
       "        [-0.35355339]])"
      ]
     },
     "execution_count": 4,
     "metadata": {},
     "output_type": "execute_result"
    }
   ],
   "source": [
    "get_gs(H_init)"
   ]
  },
  {
   "attachments": {},
   "cell_type": "markdown",
   "metadata": {},
   "source": [
    "Now for our target Hamiltonian we will select a random instance of the Ising model that looks like:\n",
    "\n",
    "$$\n",
    "\n",
    "H_{problem} = \\sum_j^N J_{j,j+1}\\sigma_j^z\\sigma_{j+1}^z \n",
    "\n",
    "$$"
   ]
  },
  {
   "cell_type": "code",
   "execution_count": 5,
   "metadata": {},
   "outputs": [
    {
     "data": {
      "text/plain": [
       "matrix([[-1.,  0.,  0.,  0.,  0.,  0.,  0.,  0.],\n",
       "        [ 0.,  1.,  0.,  0.,  0.,  0.,  0.,  0.],\n",
       "        [ 0.,  0.,  1.,  0.,  0.,  0.,  0.,  0.],\n",
       "        [ 0.,  0.,  0., -1.,  0.,  0.,  0.,  0.],\n",
       "        [ 0.,  0.,  0.,  0., -1.,  0.,  0.,  0.],\n",
       "        [ 0.,  0.,  0.,  0.,  0.,  1.,  0.,  0.],\n",
       "        [ 0.,  0.,  0.,  0.,  0.,  0.,  1.,  0.],\n",
       "        [ 0.,  0.,  0.,  0.,  0.,  0.,  0., -1.]])"
      ]
     },
     "execution_count": 5,
     "metadata": {},
     "output_type": "execute_result"
    }
   ],
   "source": [
    "J = -1\n",
    "\n",
    "sigma_z = np.matrix([[1, 0],\n",
    "                     [0, -1]])\n",
    "\n",
    "H_problem = 0\n",
    "for i in range(N-1):\n",
    "    H_problem = J* np.kron( np.kron(np.identity(2**i), sigma_z), np.identity(2**(N-i-1)) ) * np.kron( np.kron(np.identity(2**(i+1)), sigma_z), np.identity(2**(N-(i+1)-1)) )\n",
    "\n",
    "H_problem"
   ]
  },
  {
   "cell_type": "code",
   "execution_count": 6,
   "metadata": {},
   "outputs": [
    {
     "data": {
      "text/plain": [
       "matrix([[0.5],\n",
       "        [0. ],\n",
       "        [0. ],\n",
       "        [0.5],\n",
       "        [0.5],\n",
       "        [0. ],\n",
       "        [0. ],\n",
       "        [0.5]])"
      ]
     },
     "execution_count": 6,
     "metadata": {},
     "output_type": "execute_result"
    }
   ],
   "source": [
    "get_gs(H_problem)"
   ]
  },
  {
   "attachments": {},
   "cell_type": "markdown",
   "metadata": {},
   "source": [
    "We can see our Ising model's ground ground state (minimum energy eigenstate) is\n",
    "\n",
    "$$\n",
    "\n",
    "|\\psi\\rangle = \\frac{1}{2}(|000\\rangle + |011\\rangle + |100\\rangle + |111\\rangle).\n",
    "\n",
    "$$\n",
    "\n",
    "Now we would only need to define a scheduling function to mix both Hamiltonians. Just for simplicity we will use a single scheduling function $\\lambda(t)$ and use its complementary for the decaying of the initial Hamiltonian.\n",
    "\n",
    "$$\n",
    "\n",
    "H(t) = (1-\\lambda(t))H_{init} + \\lambda(t)H_{problem}\n",
    "\n",
    "$$\n",
    "\n"
   ]
  },
  {
   "cell_type": "code",
   "execution_count": 7,
   "metadata": {},
   "outputs": [],
   "source": [
    "e0 = []\n",
    "e1 = []\n",
    "\n",
    "# Now perform a mixing schedule\n",
    "time_range = np.arange(0.0, 1.0, 0.1)\n",
    "for lambda_t in time_range:\n",
    "\n",
    "    # Time dependent Hamiltonian\n",
    "    H = (1-lambda_t)*H_init + lambda_t*H_problem\n",
    "\n",
    "    # Get eigenspectra\n",
    "    vals, stats = get_eigenspectra(H)\n",
    "    e0.append(vals[0])\n",
    "    e1.append(vals[1])"
   ]
  },
  {
   "cell_type": "code",
   "execution_count": 8,
   "metadata": {},
   "outputs": [
    {
     "data": {
      "image/png": "[encoded data removed]",
      "text/plain": [
       "<Figure size 640x480 with 1 Axes>"
      ]
     },
     "metadata": {},
     "output_type": "display_data"
    }
   ],
   "source": [
    "import matplotlib.pyplot as plt\n",
    "\n",
    "plt.plot(time_range, e0, time_range, e1)\n",
    "plt.show()"
   ]
  },
  {
   "cell_type": "code",
   "execution_count": 9,
   "metadata": {},
   "outputs": [
    {
     "data": {
      "image/png": "[encoded data removed]",
      "text/plain": [
       "<Figure size 640x480 with 1 Axes>"
      ]
     },
     "metadata": {},
     "output_type": "display_data"
    }
   ],
   "source": [
    "plt.plot(np.subtract(e1,e0))\n",
    "plt.show()"
   ]
  },
  {
   "cell_type": "code",
   "execution_count": 10,
   "metadata": {},
   "outputs": [
    {
     "data": {
      "text/plain": [
       "matrix([[0.49701447],\n",
       "        [0.05455839],\n",
       "        [0.05455839],\n",
       "        [0.49701447],\n",
       "        [0.49701447],\n",
       "        [0.05455839],\n",
       "        [0.05455839],\n",
       "        [0.49701447]])"
      ]
     },
     "execution_count": 10,
     "metadata": {},
     "output_type": "execute_result"
    }
   ],
   "source": [
    "stats[:, 0]"
   ]
  },
  {
   "cell_type": "markdown",
   "metadata": {},
   "source": [
    "Once again, we don't need to do everything from scratch. Libraries like Qutip allow us to benefit from the existing work."
   ]
  },
  {
   "attachments": {},
   "cell_type": "markdown",
   "metadata": {},
   "source": [
    "# Qutip"
   ]
  },
  {
   "cell_type": "code",
   "execution_count": 11,
   "metadata": {},
   "outputs": [],
   "source": [
    "from qutip import qeye, sigmaz, sigmax, tensor\n",
    "\n",
    "# Create a particular instance\n",
    "J = -1\n",
    "\n",
    "# Matrices to compose the hamiltonian\n",
    "i = qeye(2)\n",
    "z = sigmaz()\n",
    "\n",
    "# Ising model\n",
    "h_ising = J * tensor(i,z,z)\n",
    "\n",
    "# Init state\n",
    "x = sigmax()\n",
    "h_b = -1 * tensor(x,i,i) + -1 * tensor(i,i,x) + -1 * tensor(i,x,i)"
   ]
  },
  {
   "cell_type": "code",
   "execution_count": 12,
   "metadata": {},
   "outputs": [
    {
     "data": {
      "text/latex": [
       "Quantum object: dims=[[2, 2, 2], [2, 2, 2]], shape=(8, 8), type='oper', dtype=CSR, isherm=True$$\\left(\\begin{array}{cc}0 & -1 & -1 & 0 & -1 & 0 & 0 & 0\\\\-1 & 0 & 0 & -1 & 0 & -1 & 0 & 0\\\\-1 & 0 & 0 & -1 & 0 & 0 & -1 & 0\\\\0 & -1 & -1 & 0 & 0 & 0 & 0 & -1\\\\-1 & 0 & 0 & 0 & 0 & -1 & -1 & 0\\\\0 & -1 & 0 & 0 & -1 & 0 & 0 & -1\\\\0 & 0 & -1 & 0 & -1 & 0 & 0 & -1\\\\0 & 0 & 0 & -1 & 0 & -1 & -1 & 0\\end{array}\\right)$$"
      ],
      "text/plain": [
       "Quantum object: dims=[[2, 2, 2], [2, 2, 2]], shape=(8, 8), type='oper', dtype=CSR, isherm=True\n",
       "Qobj data =\n",
       "[[ 0. -1. -1.  0. -1.  0.  0.  0.]\n",
       " [-1.  0.  0. -1.  0. -1.  0.  0.]\n",
       " [-1.  0.  0. -1.  0.  0. -1.  0.]\n",
       " [ 0. -1. -1.  0.  0.  0.  0. -1.]\n",
       " [-1.  0.  0.  0.  0. -1. -1.  0.]\n",
       " [ 0. -1.  0.  0. -1.  0.  0. -1.]\n",
       " [ 0.  0. -1.  0. -1.  0.  0. -1.]\n",
       " [ 0.  0.  0. -1.  0. -1. -1.  0.]]"
      ]
     },
     "execution_count": 12,
     "metadata": {},
     "output_type": "execute_result"
    }
   ],
   "source": [
    "h_b"
   ]
  },
  {
   "cell_type": "code",
   "execution_count": 13,
   "metadata": {},
   "outputs": [
    {
     "data": {
      "text/latex": [
       "Quantum object: dims=[[2, 2, 2], [2, 2, 2]], shape=(8, 8), type='oper', dtype=CSR, isherm=True$$\\left(\\begin{array}{cc}-1 & 0 & 0 & 0 & 0 & 0 & 0 & 0\\\\0 & 1 & 0 & 0 & 0 & 0 & 0 & 0\\\\0 & 0 & 1 & 0 & 0 & 0 & 0 & 0\\\\0 & 0 & 0 & -1 & 0 & 0 & 0 & 0\\\\0 & 0 & 0 & 0 & -1 & 0 & 0 & 0\\\\0 & 0 & 0 & 0 & 0 & 1 & 0 & 0\\\\0 & 0 & 0 & 0 & 0 & 0 & 1 & 0\\\\0 & 0 & 0 & 0 & 0 & 0 & 0 & -1\\end{array}\\right)$$"
      ],
      "text/plain": [
       "Quantum object: dims=[[2, 2, 2], [2, 2, 2]], shape=(8, 8), type='oper', dtype=CSR, isherm=True\n",
       "Qobj data =\n",
       "[[-1.  0.  0.  0.  0.  0.  0.  0.]\n",
       " [ 0.  1.  0.  0.  0.  0.  0.  0.]\n",
       " [ 0.  0.  1.  0.  0.  0.  0.  0.]\n",
       " [ 0.  0.  0. -1.  0.  0.  0.  0.]\n",
       " [ 0.  0.  0.  0. -1.  0.  0.  0.]\n",
       " [ 0.  0.  0.  0.  0.  1.  0.  0.]\n",
       " [ 0.  0.  0.  0.  0.  0.  1.  0.]\n",
       " [ 0.  0.  0.  0.  0.  0.  0. -1.]]"
      ]
     },
     "execution_count": 13,
     "metadata": {},
     "output_type": "execute_result"
    }
   ],
   "source": [
    "h_ising"
   ]
  },
  {
   "cell_type": "code",
   "execution_count": 14,
   "metadata": {},
   "outputs": [],
   "source": [
    "from qutip import QobjEvo\n",
    "\n",
    "def schedule(t, taumax):\n",
    "    \"\"\"\n",
    "    Scheduling function for the adiabatic evolution\n",
    "    \"\"\"\n",
    "\n",
    "    return t/taumax\n",
    "\n",
    "# Tau max\n",
    "taumax = 5.0\n",
    "\n",
    "# The time dependent function\n",
    "h_t = QobjEvo([[h_b, lambda t: 1 - schedule(t, taumax)],\n",
    "        [h_ising, lambda t: schedule(t, taumax)]])"
   ]
  },
  {
   "cell_type": "code",
   "execution_count": 15,
   "metadata": {},
   "outputs": [
    {
     "data": {
      "text/latex": [
       "Quantum object: dims=[[2, 2, 2], [2, 2, 2]], shape=(8, 8), type='oper', dtype=CSR, isherm=True$$\\left(\\begin{array}{cc}-0.200 & -0.800 & -0.800 & 0 & -0.800 & 0 & 0 & 0\\\\-0.800 & 0.200 & 0 & -0.800 & 0 & -0.800 & 0 & 0\\\\-0.800 & 0 & 0.200 & -0.800 & 0 & 0 & -0.800 & 0\\\\0 & -0.800 & -0.800 & -0.200 & 0 & 0 & 0 & -0.800\\\\-0.800 & 0 & 0 & 0 & -0.200 & -0.800 & -0.800 & 0\\\\0 & -0.800 & 0 & 0 & -0.800 & 0.200 & 0 & -0.800\\\\0 & 0 & -0.800 & 0 & -0.800 & 0 & 0.200 & -0.800\\\\0 & 0 & 0 & -0.800 & 0 & -0.800 & -0.800 & -0.200\\end{array}\\right)$$"
      ],
      "text/plain": [
       "Quantum object: dims=[[2, 2, 2], [2, 2, 2]], shape=(8, 8), type='oper', dtype=CSR, isherm=True\n",
       "Qobj data =\n",
       "[[-0.2 -0.8 -0.8  0.  -0.8  0.   0.   0. ]\n",
       " [-0.8  0.2  0.  -0.8  0.  -0.8  0.   0. ]\n",
       " [-0.8  0.   0.2 -0.8  0.   0.  -0.8  0. ]\n",
       " [ 0.  -0.8 -0.8 -0.2  0.   0.   0.  -0.8]\n",
       " [-0.8  0.   0.   0.  -0.2 -0.8 -0.8  0. ]\n",
       " [ 0.  -0.8  0.   0.  -0.8  0.2  0.  -0.8]\n",
       " [ 0.   0.  -0.8  0.  -0.8  0.   0.2 -0.8]\n",
       " [ 0.   0.   0.  -0.8  0.  -0.8 -0.8 -0.2]]"
      ]
     },
     "execution_count": 15,
     "metadata": {},
     "output_type": "execute_result"
    }
   ],
   "source": [
    "h_t(1.0)"
   ]
  },
  {
   "cell_type": "code",
   "execution_count": 16,
   "metadata": {},
   "outputs": [
    {
     "data": {
      "text/plain": [
       "array([-3., -1., -1., -1.,  1.,  1.,  1.,  3.])"
      ]
     },
     "execution_count": 16,
     "metadata": {},
     "output_type": "execute_result"
    }
   ],
   "source": [
    "eigvals, eigstates = h_t(0).eigenstates()\n",
    "eigvals"
   ]
  },
  {
   "cell_type": "code",
   "execution_count": 17,
   "metadata": {},
   "outputs": [
    {
     "data": {
      "text/latex": [
       "Quantum object: dims=[[2, 2, 2], [1, 1, 1]], shape=(8, 1), type='ket', dtype=Dense$$\\left(\\begin{array}{cc}-0.354\\\\-0.354\\\\-0.354\\\\-0.354\\\\-0.354\\\\-0.354\\\\-0.354\\\\-0.354\\end{array}\\right)$$"
      ],
      "text/plain": [
       "Quantum object: dims=[[2, 2, 2], [1, 1, 1]], shape=(8, 1), type='ket', dtype=Dense\n",
       "Qobj data =\n",
       "[[-0.35355339]\n",
       " [-0.35355339]\n",
       " [-0.35355339]\n",
       " [-0.35355339]\n",
       " [-0.35355339]\n",
       " [-0.35355339]\n",
       " [-0.35355339]\n",
       " [-0.35355339]]"
      ]
     },
     "execution_count": 17,
     "metadata": {},
     "output_type": "execute_result"
    }
   ],
   "source": [
    "psi0 = eigstates[0]\n",
    "psi0"
   ]
  },
  {
   "cell_type": "code",
   "execution_count": 18,
   "metadata": {},
   "outputs": [
    {
     "data": {
      "text/latex": [
       "Quantum object: dims=[[2, 2, 2], [2, 2, 2]], shape=(8, 8), type='oper', dtype=CSR, isherm=True$$\\left(\\begin{array}{cc}-1 & 0 & 0 & 0 & 0 & 0 & 0 & 0\\\\0 & 1 & 0 & 0 & 0 & 0 & 0 & 0\\\\0 & 0 & 1 & 0 & 0 & 0 & 0 & 0\\\\0 & 0 & 0 & -1 & 0 & 0 & 0 & 0\\\\0 & 0 & 0 & 0 & -1 & 0 & 0 & 0\\\\0 & 0 & 0 & 0 & 0 & 1 & 0 & 0\\\\0 & 0 & 0 & 0 & 0 & 0 & 1 & 0\\\\0 & 0 & 0 & 0 & 0 & 0 & 0 & -1\\end{array}\\right)$$"
      ],
      "text/plain": [
       "Quantum object: dims=[[2, 2, 2], [2, 2, 2]], shape=(8, 8), type='oper', dtype=CSR, isherm=True\n",
       "Qobj data =\n",
       "[[-1.  0.  0.  0.  0.  0.  0.  0.]\n",
       " [ 0.  1.  0.  0.  0.  0.  0.  0.]\n",
       " [ 0.  0.  1.  0.  0.  0.  0.  0.]\n",
       " [ 0.  0.  0. -1.  0.  0.  0.  0.]\n",
       " [ 0.  0.  0.  0. -1.  0.  0.  0.]\n",
       " [ 0.  0.  0.  0.  0.  1.  0.  0.]\n",
       " [ 0.  0.  0.  0.  0.  0.  1.  0.]\n",
       " [ 0.  0.  0.  0.  0.  0.  0. -1.]]"
      ]
     },
     "execution_count": 18,
     "metadata": {},
     "output_type": "execute_result"
    }
   ],
   "source": [
    "h_t(taumax)"
   ]
  },
  {
   "cell_type": "code",
   "execution_count": 19,
   "metadata": {},
   "outputs": [
    {
     "name": "stdout",
     "output_type": "stream",
     "text": [
      "[-1. -1. -1. -1.  1.  1.  1.  1.]\n"
     ]
    }
   ],
   "source": [
    "eigvals, eigstates = h_t(taumax).eigenstates()\n",
    "print(eigvals)"
   ]
  },
  {
   "cell_type": "code",
   "execution_count": 20,
   "metadata": {},
   "outputs": [
    {
     "data": {
      "text/latex": [
       "Quantum object: dims=[[2, 2, 2], [1, 1, 1]], shape=(8, 1), type='ket', dtype=Dense$$\\left(\\begin{array}{cc}0.500\\\\0\\\\0\\\\0.500\\\\0.500\\\\0\\\\0\\\\0.500\\end{array}\\right)$$"
      ],
      "text/plain": [
       "Quantum object: dims=[[2, 2, 2], [1, 1, 1]], shape=(8, 1), type='ket', dtype=Dense\n",
       "Qobj data =\n",
       "[[0.5]\n",
       " [0. ]\n",
       " [0. ]\n",
       " [0.5]\n",
       " [0.5]\n",
       " [0. ]\n",
       " [0. ]\n",
       " [0.5]]"
      ]
     },
     "execution_count": 20,
     "metadata": {},
     "output_type": "execute_result"
    }
   ],
   "source": [
    "0.5*(eigstates[0] + eigstates[1] + eigstates[2] + eigstates[3])"
   ]
  },
  {
   "cell_type": "code",
   "execution_count": 21,
   "metadata": {},
   "outputs": [],
   "source": [
    "from qutip import mesolve\n",
    "\n",
    "taulist = np.linspace(0, taumax, 100)\n",
    "\n",
    "evals_mat = np.zeros((len(taulist), 2**N))\n",
    "idx = [0]\n",
    "min_gap = [+np.inf]\n",
    "\n",
    "def process_rho(tau, psi):\n",
    "    \"\"\"Process in between to\n",
    "    obtain the eigenvalues\n",
    "\n",
    "    Args:\n",
    "        tau (float): Time step\n",
    "        psi (Qobj): Psi\n",
    "    \"\"\"\n",
    "    evals, _ = h_t(tau).eigenstates()\n",
    "    evals_mat[idx[0],:] = np.real(evals)\n",
    "    \n",
    "    idx[0] += 1\n",
    "    min_gap[0] = min(min_gap[0], evals[1]-evals[0])\n",
    "\n",
    "# Solve the master equation\n",
    "result = mesolve(h_t, psi0, taulist, c_ops=[], e_ops=process_rho, options={\"store_states\" : True})"
   ]
  },
  {
   "cell_type": "code",
   "execution_count": 22,
   "metadata": {},
   "outputs": [
    {
     "data": {
      "text/latex": [
       "Quantum object: dims=[[2, 2, 2], [1, 1, 1]], shape=(8, 1), type='ket', dtype=Dense$$\\left(\\begin{array}{cc}(0.403-0.288j)\\\\(-0.060-0.039j)\\\\(-0.060-0.039j)\\\\(0.403-0.288j)\\\\(0.403-0.288j)\\\\(-0.060-0.039j)\\\\(-0.060-0.039j)\\\\(0.403-0.288j)\\end{array}\\right)$$"
      ],
      "text/plain": [
       "Quantum object: dims=[[2, 2, 2], [1, 1, 1]], shape=(8, 1), type='ket', dtype=Dense\n",
       "Qobj data =\n",
       "[[ 0.4026931 -0.28765221j]\n",
       " [-0.05965692-0.03918574j]\n",
       " [-0.05965692-0.03918574j]\n",
       " [ 0.4026931 -0.28765221j]\n",
       " [ 0.4026931 -0.28765221j]\n",
       " [-0.05965692-0.03918574j]\n",
       " [-0.05965692-0.03918574j]\n",
       " [ 0.4026931 -0.28765221j]]"
      ]
     },
     "execution_count": 22,
     "metadata": {},
     "output_type": "execute_result"
    }
   ],
   "source": [
    "result.final_state"
   ]
  },
  {
   "cell_type": "code",
   "execution_count": 23,
   "metadata": {},
   "outputs": [
    {
     "data": {
      "image/png": "[encoded data removed]",
      "text/plain": [
       "<Figure size 640x480 with 1 Axes>"
      ]
     },
     "metadata": {},
     "output_type": "display_data"
    },
    {
     "name": "stdout",
     "output_type": "stream",
     "text": [
      "Found minimum gap: 0.0\n"
     ]
    }
   ],
   "source": [
    "# Plot results\n",
    "plt.plot(evals_mat)\n",
    "plt.title('Energy gap evolution')\n",
    "plt.show()\n",
    "\n",
    "print(f\"Found minimum gap: {min_gap[0]}\")"
   ]
  },
  {
   "cell_type": "markdown",
   "metadata": {},
   "source": [
    "## Exercise\n",
    "\n",
    "Can you think of a better scheduling function?"
   ]
  },
  {
   "cell_type": "code",
   "execution_count": null,
   "metadata": {},
   "outputs": [],
   "source": [
    "# Your code goes here"
   ]
  }
 ],
 "metadata": {
  "kernelspec": {
   "display_name": ".venv",
   "language": "python",
   "name": "python3"
  },
  "language_info": {
   "codemirror_mode": {
    "name": "ipython",
    "version": 3
   },
   "file_extension": ".py",
   "mimetype": "text/x-python",
   "name": "python",
   "nbconvert_exporter": "python",
   "pygments_lexer": "ipython3",
   "version": "3.12.7"
  },
  "orig_nbformat": 4
 },
 "nbformat": 4,
 "nbformat_minor": 2
}
